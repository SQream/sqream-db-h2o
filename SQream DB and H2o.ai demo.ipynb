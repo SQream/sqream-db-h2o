{
 "cells": [
  {
   "cell_type": "markdown",
   "metadata": {},
   "source": [
    "# SQream DB and H2o.ai Demo"
   ]
  },
  {
   "cell_type": "markdown",
   "metadata": {},
   "source": [
    "This demonstration shows how to use H2O's AI platform, including H2O Flow, with SQream DB."
   ]
  },
  {
   "cell_type": "markdown",
   "metadata": {},
   "source": [
    "The first half of this demo is standard Python inside a Jupyter Notebook, the other half is in H2O's Flow UI.\n",
    "\n",
    "We are running Python 3.7 on a standard laptop."
   ]
  },
  {
   "cell_type": "markdown",
   "metadata": {},
   "source": [
    "## Step 1 - import and initialize H2O and SQream DB connectors"
   ]
  },
  {
   "cell_type": "code",
   "execution_count": null,
   "metadata": {},
   "outputs": [],
   "source": [
    "import os\n",
    "import h2o\n",
    "import pysqream as sq\n",
    "import matplotlib.pyplot as plt"
   ]
  },
  {
   "cell_type": "code",
   "execution_count": null,
   "metadata": {},
   "outputs": [],
   "source": [
    "h2o.init(url='http://127.0.0.1:54321', nthreads=-1, bind_to_localhost=False)"
   ]
  },
  {
   "cell_type": "code",
   "execution_count": null,
   "metadata": {},
   "outputs": [],
   "source": [
    "con = sq.connect(host='192.168.1.91',port=5000\n",
    "                 ,database='ontime'\n",
    "                 ,username=os.environ.get(\"SQREAM_USERNAME\")\n",
    "                 ,password=os.environ.get(\"SQREAM_PASSWORD\")\n",
    "                 ,clustered=False)"
   ]
  },
  {
   "cell_type": "markdown",
   "metadata": {},
   "source": [
    "Success, we are connected to SQream DB!\n",
    "\n",
    "## Step 2 - Exploring the data a bit\n",
    "\n",
    "Let us run a couple of queries to see what we have in this `ontime` database"
   ]
  },
  {
   "cell_type": "code",
   "execution_count": null,
   "metadata": {},
   "outputs": [],
   "source": [
    "cur = con.cursor() # We create a new database cursor\n",
    "cur.execute(\"SELECT table_name, row_count FROM sqream_catalog.tables\")\n",
    "print(cur.fetchall())\n",
    "cur.close()"
   ]
  },
  {
   "cell_type": "markdown",
   "metadata": {},
   "source": [
    "Our database has one table called `ontime`, with 193.1 million records.\n",
    "\n",
    "Let's run a query on this table, to see how many distinct years it contains..."
   ]
  },
  {
   "cell_type": "code",
   "execution_count": null,
   "metadata": {},
   "outputs": [],
   "source": [
    "cur = con.cursor() # We create a new database cursor\n",
    "cur.execute(\"SELECT year, COUNT(1) FROM ontime GROUP BY 1\")\n",
    "result = cur.fetchall()\n",
    "cur.close()\n",
    "result"
   ]
  },
  {
   "cell_type": "markdown",
   "metadata": {},
   "source": [
    "Alright, entries from 1987 all the way to 2020.\n",
    "Let's plot it!"
   ]
  },
  {
   "cell_type": "code",
   "execution_count": null,
   "metadata": {},
   "outputs": [],
   "source": [
    "plt.bar(*zip(*result))\n",
    "plt.show()"
   ]
  },
  {
   "cell_type": "markdown",
   "metadata": {},
   "source": [
    "So far, run-of-the-mill Python.\n",
    "\n",
    "## Step 3 - adding calculated columns for prediction\n",
    "\n",
    "Let's try to do something more interersting.\n",
    "\n",
    "Our table includes information about every flight in the US from 1987, until January 2020.\n",
    "\n",
    "We want to know which flights were delayed. Let's define a delay:\n",
    "\n",
    "> a departure delay is whenever the flight was delayed on departure for over 15 minutes\n",
    "\n",
    "We can ask SQream DB to attach a new calculated column, `isDepDelayed` by adding it to the end of the select list.\n",
    "\n",
    "In this case, let's look at 1000 flights in 2005:"
   ]
  },
  {
   "cell_type": "code",
   "execution_count": null,
   "metadata": {},
   "outputs": [],
   "source": [
    "query = \"\"\"SELECT *,coalesce((depdelay > 15),false) AS isdepdelayed\n",
    "FROM ontime\n",
    "WHERE year = 2005\n",
    "LIMIT 1000\n",
    "\"\"\"\n",
    "cur = con.cursor()\n",
    "cur.execute(query)\n",
    "result = cur.fetchall()\n",
    "cur.close()"
   ]
  },
  {
   "cell_type": "code",
   "execution_count": null,
   "metadata": {},
   "outputs": [],
   "source": [
    "# Take result and place it in an H2O data frame:\n",
    "airlines_dataset = h2o.H2OFrame(result,column_names=[ i[0] for i in cur.description ], destination_frame=\"airlines_training\")\n",
    "airlines_dataset.head(10)"
   ]
  },
  {
   "cell_type": "markdown",
   "metadata": {},
   "source": [
    "Once we have a dataframe, we can begin to feed the data into a model.\n",
    "\n",
    "## Step 4 - build the model\n",
    "\n",
    "First, we decide on some columns which will be the \"dimensions\" (called factors in H2O)."
   ]
  },
  {
   "cell_type": "code",
   "execution_count": null,
   "metadata": {},
   "outputs": [],
   "source": [
    "def factorize(df, cnames):\n",
    "    for cname in cnames:\n",
    "        df[cname] = df[cname].asfactor()\n",
    "    return df\n",
    "\n",
    "# We can tell H2O which columns we consider to be factors:\n",
    "airlines_dataset = factorize(airlines_dataset, \n",
    "                             [\"year\",\"month\",\"dayofmonth\"\n",
    "                              ,\"dayofweek\",\"uniquecarrier\"\n",
    "                              ,\"origin\",\"dest\"\n",
    "                              ,\"isdepdelayed\"])"
   ]
  },
  {
   "cell_type": "markdown",
   "metadata": {},
   "source": [
    "We will use a Gradient Boosting Estimator (GBM).\n",
    "\n",
    "First, we'll want to predict the \"is departure delayed\" column that we added. So, that column will be separated from the rest:"
   ]
  },
  {
   "cell_type": "code",
   "execution_count": null,
   "metadata": {},
   "outputs": [],
   "source": [
    "predict_column = \"isdepdelayed\" # Column to predict\n",
    "\n",
    "other_cols = ['origin','dest','dayofmonth'\n",
    "              ,'year','uniquecarrier','dayofweek'\n",
    "              ,'month','deptime','crsdeptime'\n",
    "              ,'arrtime','distance'] # Other factors to look at"
   ]
  },
  {
   "cell_type": "markdown",
   "metadata": {},
   "source": [
    "Now, we'll take our data frame and split it 80%/20%.\n",
    "\n",
    "At 1000 rows for the original training set, we're looking at around 800 rows for the training set, and 200 for the validation set - just to check that our model works correctly."
   ]
  },
  {
   "cell_type": "code",
   "execution_count": null,
   "metadata": {},
   "outputs": [],
   "source": [
    "train, valid = airlines_dataset.split_frame([0.8,], seed=1234)"
   ]
  },
  {
   "cell_type": "markdown",
   "metadata": {},
   "source": [
    "Now, we create the GBM:"
   ]
  },
  {
   "cell_type": "code",
   "execution_count": null,
   "metadata": {},
   "outputs": [],
   "source": [
    "from h2o.estimators.gbm import H2OGradientBoostingEstimator\n",
    "gbm_v1 = H2OGradientBoostingEstimator(model_id=\"gbm_airlines\", seed=2000000)"
   ]
  },
  {
   "cell_type": "markdown",
   "metadata": {},
   "source": [
    "## Step 5 - Train the model"
   ]
  },
  {
   "cell_type": "code",
   "execution_count": null,
   "metadata": {},
   "outputs": [],
   "source": [
    "gbm_v1.train(other_cols, predict_column, training_frame=train, validation_frame=valid)"
   ]
  },
  {
   "cell_type": "markdown",
   "metadata": {},
   "source": [
    "## Step 6 - Inspect the model in H2O Flow\n",
    "\n",
    "We can now look at the model in H2O Flow: http://127.0.0.1:54321/flow/index.html\n",
    "\n",
    "## Step 7 - Test the model\n",
    "\n",
    "In order to test the model, we'll pull out 10,000 rows from the year 2019 and 2018 and feed it into H2O.\n",
    "\n",
    "Then, we'll try to predict, but we'll do it in the H2O Flow UI."
   ]
  },
  {
   "cell_type": "code",
   "execution_count": null,
   "metadata": {},
   "outputs": [],
   "source": [
    "query = \"\"\"SELECT year,month,dayofmonth\n",
    "                   ,dayofweek,uniquecarrier\n",
    "                   ,origin,dest\n",
    "                   ,coalesce((depdelay > 15),false) as isdepdelayed\n",
    "           FROM ontime WHERE year=2019\n",
    "           LIMIT 10000\n",
    "\"\"\"\n",
    "cur = con.cursor()\n",
    "cur.execute(query)\n",
    "result = cur.fetchall()\n",
    "test = h2o.H2OFrame(result,column_names=[ i[0] for i in cur.description ],destination_frame=\"airlines_test_2019\")\n",
    "cur.close()"
   ]
  },
  {
   "cell_type": "code",
   "execution_count": null,
   "metadata": {},
   "outputs": [],
   "source": [
    "query = \"\"\"SELECT year,month,dayofmonth\n",
    "                  ,dayofweek,uniquecarrier\n",
    "                  ,origin,dest\n",
    "                  ,coalesce((depdelay > 15),false) as isdepdelayed\n",
    "           FROM ontime WHERE year=2018\n",
    "           LIMIT 10000\n",
    "\"\"\"\n",
    "cur = con.cursor()\n",
    "cur.execute(query)\n",
    "result = cur.fetchall()\n",
    "test = h2o.H2OFrame(result,column_names=[ i[0] for i in cur.description ],destination_frame=\"airlines_test_2018\")\n",
    "cur.close()"
   ]
  }
 ],
 "metadata": {
  "kernelspec": {
   "display_name": "Python 3",
   "language": "python",
   "name": "python3"
  },
  "language_info": {
   "codemirror_mode": {
    "name": "ipython",
    "version": 3
   },
   "file_extension": ".py",
   "mimetype": "text/x-python",
   "name": "python",
   "nbconvert_exporter": "python",
   "pygments_lexer": "ipython3",
   "version": "3.7.6"
  }
 },
 "nbformat": 4,
 "nbformat_minor": 2
}
